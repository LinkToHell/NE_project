{
 "cells": [
  {
   "cell_type": "code",
   "execution_count": 1,
   "metadata": {},
   "outputs": [],
   "source": [
    "import os\n",
    "import tqdm\n",
    "from pysat.pb import PBEnc\n",
    "from pysat.formula import CNF\n",
    "from pysat.solvers import Solver"
   ]
  },
  {
   "cell_type": "code",
   "execution_count": 32,
   "metadata": {},
   "outputs": [
    {
     "name": "stdout",
     "output_type": "stream",
     "text": [
      "6 False\n",
      "8 False\n",
      "10 False\n"
     ]
    }
   ],
   "source": [
    "for i in [6, 8, 10]:\n",
    "    for j in [2]:\n",
    "        s = ['c' + ' 0 1' * int(i / 2)]\n",
    "        DATA_p = 'PPH/' + str(i) + '/' + str(j) + '/'\n",
    "        DATA_f = os.listdir(DATA_p)\n",
    "        cnf_t = CNF('PPH/' + str(i) + '/' + str(j) + '/ter.txt').clauses\n",
    "        for f in DATA_f:\n",
    "            if f != 'ter.txt':\n",
    "                cnf_f = CNF(DATA_p + f)\n",
    "                if cnf_f.comments == s:\n",
    "                    cnf = atmost_for_each(i, j, 2) + cnf_t + cnf_f.clauses\n",
    "                    solver = Solver('m22', cnf)\n",
    "                    print(i, solver.solve())\n",
    "#                     solution = filter(lambda x: abs(x) <= int(i * (i + 1) / 2) * j, solver.get_model())\n",
    "#                     model = list(map(lambda x: toOp(x, i), solution))\n",
    "#                     for order in toFull(model, i):\n",
    "#                         print(order)\n",
    "#                     for op in map(lambda x: [x[0], toOut(x[1]) + ' < ' + toOut(x[2])], model):\n",
    "#                         print(op)\n",
    "    #                     os.remove(DATA_p + f)\n",
    "                    solver.delete()"
   ]
  },
  {
   "cell_type": "code",
   "execution_count": null,
   "metadata": {},
   "outputs": [],
   "source": [
    "# 6 True\n",
    "# c < a6 < a4 < a5 < a2 < a1 < a3\n",
    "# a2 < a1 < a3 < c < a6 < a5 < a4\n",
    "# 8 True\n",
    "# c < a8 < a6 < a5 < a3 < a2 < a4 < a7 < a1\n",
    "# a8 < a7 < a1 < c < a6 < a5 < a3 < a2 < a4\n",
    "# 10 True\n",
    "# c < a4 < a5 < a8 < a10 < a9 < a3 < a2 < a6 < a7 < a1\n",
    "# a8 < a9 < a7 < c < a4 < a1 < a10 < a6 < a5 < a3 < a2"
   ]
  },
  {
   "cell_type": "code",
   "execution_count": 2,
   "metadata": {},
   "outputs": [],
   "source": [
    "def toFull(ops, n):\n",
    "    p = max(ops, key=lambda x: x[0])[0] + 1\n",
    "    if len(ops) != p * int((n + 1) * n / 2):\n",
    "        raise BaseException('Wrong len(ops)')\n",
    "    res = []\n",
    "    for i in range(p):\n",
    "        ans = []\n",
    "        for j in range(n + 1):\n",
    "            best = [0] * (n + 1)\n",
    "            for op in ops:\n",
    "                if op[0] == i:\n",
    "                    best[op[1]] += 1\n",
    "            ans.append(best.index(j))\n",
    "        ans.reverse()\n",
    "        res.append(' < '.join(map(toOut, ans)))\n",
    "    return(res)"
   ]
  },
  {
   "cell_type": "code",
   "execution_count": 8,
   "metadata": {},
   "outputs": [],
   "source": [
    "os.makedirs('PPH')\n",
    "for i in range(3, 21):\n",
    "    for j in range(i + 1):\n",
    "        os.makedirs('PPH' + '/' + str(i) + '/' + str(j))"
   ]
  },
  {
   "cell_type": "code",
   "execution_count": 4,
   "metadata": {},
   "outputs": [],
   "source": [
    "def toVar(player, a, b, n):\n",
    "    return int(player * (n + 1) * n / 2 + a * (2 * n - a - 1) / 2 + b)\n",
    "\n",
    "def toLit(player, a, b, n):\n",
    "    if a < b:\n",
    "        return toVar(player, a, b, n)\n",
    "    else:\n",
    "        return -toVar(player, b, a, n)\n",
    "\n",
    "def atmost_for_each(g_size, dif, k, var = 0):\n",
    "    ans = []\n",
    "    if var == 0:\n",
    "        var = int((dif * (g_size + 1) * g_size) / 2)\n",
    "    for i in range(dif):\n",
    "        lits = []\n",
    "        for j in range(1, g_size + 1):\n",
    "            lits.append(toLit(i, j, 0, g_size))\n",
    "        ans += PBEnc.atmost(lits, bound = k, top_id = var).clauses\n",
    "        for clause in ans:\n",
    "            for lit in clause:\n",
    "                var = max(abs(lit), var)\n",
    "    return ans\n",
    "\n",
    "def atmost_for_all(g_size, dif, k, var = 0):\n",
    "    lits = []\n",
    "    if var == 0:\n",
    "        var = int((dif * (g_size + 1) * g_size) / 2)\n",
    "    for i in range(dif):\n",
    "        for j in range(1, g_size + 1):\n",
    "            lits.append(toLit(i, j, 0, g_size))\n",
    "    return PBEnc.atmost(lits, bound = k, top_id = var).clauses\n",
    "\n",
    "def atmost_combo(g_size, dif, k1, k2):\n",
    "    var = 0\n",
    "    cnf = atmost_for_each(g_size, dif, k1)\n",
    "    for clause in cnf:\n",
    "        for lit in clause:\n",
    "            var = max(abs(lit), var)\n",
    "    cnf += atmost_for_all(g_size, dif, k2, var)\n",
    "    return cnf\n",
    "\n",
    "def not_worst_for_one(g_size, dif, n):\n",
    "    ans = []\n",
    "    for i in range(dif):\n",
    "        if i != n:\n",
    "            for j in range(1, g_size + 1):\n",
    "                ans.append([toLit(i, 0, j, g_size)])\n",
    "    return ans\n",
    "\n",
    "def c_worst_for(g_size, n):\n",
    "    ans = []\n",
    "    for i in range(1, g_size + 1):\n",
    "        ans.append([toLit(n, 0, i, g_size)])\n",
    "    return ans\n",
    "\n",
    "def toOp(Lit, n):\n",
    "    ans = [0] * 3\n",
    "    aLit = abs(Lit) - 1\n",
    "    num = int((n + 1) * n / 2)\n",
    "    ans[0] = int(aLit / num)\n",
    "    ab = aLit % num\n",
    "    s = 0\n",
    "    for i in range(n, 0, -1):\n",
    "        s += i\n",
    "        if ab < s:\n",
    "            ans[1] = n - i\n",
    "            ans[2] = n + ab - s + 1\n",
    "            break\n",
    "    if Lit < 0:\n",
    "        ans[1], ans[2] = ans[2], ans[1]\n",
    "    return(ans)\n",
    "\n",
    "def toOut(num):\n",
    "    return 'c' if num == 0 else 'a' + str(num)"
   ]
  },
  {
   "cell_type": "code",
   "execution_count": null,
   "metadata": {},
   "outputs": [],
   "source": [
    "all_data = []\n",
    "for i in range(2, 7):\n",
    "    all_data.append([])\n",
    "    for j in range(1, i + 1):\n",
    "        all_data[-1].append([])\n",
    "        DATA_p = 'data/' + str(i) + '/' + str(j) + '/'\n",
    "        DATA_f = os.listdir(DATA_p)\n",
    "        for f in tqdm.tqdm(DATA_f):\n",
    "            cnf = CNF(DATA_p + f).clauses\n",
    "            all_data[-1][-1].append(cnf)"
   ]
  },
  {
   "cell_type": "code",
   "execution_count": null,
   "metadata": {},
   "outputs": [],
   "source": [
    "for i in range(2, 7):\n",
    "    for j in range(1, i + 1):\n",
    "        count = 0\n",
    "        DATA_p = 'data/' + str(i) + '/' + str(j) + '/'\n",
    "        DATA_f = os.listdir(DATA_p)\n",
    "        cnf_t = CNF('CNF/' + str(i) + '/' + str(j) + '/ter/op.txt').clauses\n",
    "        for f in tqdm.tqdm(DATA_f):\n",
    "            cnf = atmost_for_all(i, j, 4) + cnf_t + CNF(DATA_p + f).clauses\n",
    "            solver = Solver('m22', cnf)\n",
    "            if solver.solve():\n",
    "                count += 1\n",
    "            solver.delete()\n",
    "        print(i, j, count)"
   ]
  },
  {
   "cell_type": "code",
   "execution_count": null,
   "metadata": {},
   "outputs": [],
   "source": [
    "for i in range(2, 7):\n",
    "    for j in range(1, i + 1):\n",
    "        count = 0\n",
    "        cnf_t = CNF('CNF/' + str(i) + '/' + str(j) + '/ter/op.txt').clauses\n",
    "        for cnf_f in tqdm.tqdm(all_data[i - 2][j - 1]):\n",
    "            cnf = atmost_combo(i, j, 2, 4) + cnf_t + cnf_f\n",
    "            solver = Solver('m22', cnf)\n",
    "            if solver.solve():\n",
    "                count += 1\n",
    "            solver.delete()\n",
    "        print(i, j, count)"
   ]
  },
  {
   "cell_type": "code",
   "execution_count": null,
   "metadata": {},
   "outputs": [],
   "source": [
    "for i in range(2, 7):\n",
    "    for j in range(1, i + 1):\n",
    "        count = 0\n",
    "        cnf_t = CNF('CNF/' + str(i) + '/' + str(j) + '/ter/op.txt').clauses\n",
    "        for cnf_f in tqdm.tqdm(all_data[i - 2][j - 1]):\n",
    "            for k in range(j):\n",
    "                cnf = not_worst_for_one(i, j, k) + cnf_t + cnf_f\n",
    "                solver = Solver('m22', cnf)\n",
    "                if solver.solve():\n",
    "                    count += 1\n",
    "                solver.delete()\n",
    "        print(i, j, count)"
   ]
  },
  {
   "cell_type": "code",
   "execution_count": null,
   "metadata": {},
   "outputs": [],
   "source": [
    "Хотя бы 2 исхода должны быть хуже цикла для какого-то игрока. Хотя бы 4 исхода должны быть хуже цикла для всех игроков в сумме. Есть пример, где (1) и (2) выполняются одновременно. Нет примера, где цикл не худший исход ровно для одного игрока."
   ]
  },
  {
   "cell_type": "code",
   "execution_count": null,
   "metadata": {},
   "outputs": [],
   "source": []
  }
 ],
 "metadata": {
  "kernelspec": {
   "display_name": "Python 3",
   "language": "python",
   "name": "python3"
  },
  "language_info": {
   "codemirror_mode": {
    "name": "ipython",
    "version": 3
   },
   "file_extension": ".py",
   "mimetype": "text/x-python",
   "name": "python",
   "nbconvert_exporter": "python",
   "pygments_lexer": "ipython3",
   "version": "3.6.8"
  }
 },
 "nbformat": 4,
 "nbformat_minor": 2
}
